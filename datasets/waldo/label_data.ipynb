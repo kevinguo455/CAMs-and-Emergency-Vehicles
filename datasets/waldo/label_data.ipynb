{
 "cells": [
  {
   "cell_type": "code",
   "execution_count": 2,
   "metadata": {},
   "outputs": [],
   "source": [
    "import shutil\n",
    "import os"
   ]
  },
  {
   "cell_type": "code",
   "execution_count": 11,
   "metadata": {},
   "outputs": [],
   "source": [
    "for sz in ['64', '128', '256']:\n",
    "    for cat in ['waldo', 'notwaldo']:\n",
    "        for file in os.listdir(os.path.join('./download', sz, cat)):\n",
    "            from_path = os.path.join('./download', sz, cat, file)\n",
    "            to_path = os.path.join('./labelled', cat, 'sz'+sz+'_'+file)\n",
    "            shutil.move(from_path, to_path)"
   ]
  }
 ],
 "metadata": {
  "kernelspec": {
   "display_name": ".venv",
   "language": "python",
   "name": "python3"
  },
  "language_info": {
   "codemirror_mode": {
    "name": "ipython",
    "version": 3
   },
   "file_extension": ".py",
   "mimetype": "text/x-python",
   "name": "python",
   "nbconvert_exporter": "python",
   "pygments_lexer": "ipython3",
   "version": "3.8.19"
  }
 },
 "nbformat": 4,
 "nbformat_minor": 2
}
