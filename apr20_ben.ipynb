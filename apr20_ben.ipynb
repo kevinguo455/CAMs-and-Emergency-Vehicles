{
 "cells": [
  {
   "cell_type": "code",
   "execution_count": 1,
   "metadata": {},
   "outputs": [],
   "source": [
    "import torch\n",
    "import torchvision\n",
    "import numpy as np\n",
    "from sklearn.model_selection import train_test_split\n",
    "from torchvision import transforms\n",
    "from collections import Counter\n",
    "import matplotlib.pyplot as plt\n",
    "import torchvision.models as models\n",
    "from tqdm import tqdm\n",
    "import torch.nn as nn\n",
    "from sklearn.neighbors import KNeighborsClassifier\n",
    "from sklearn.metrics import accuracy_score\n",
    "import random"
   ]
  },
  {
   "cell_type": "code",
   "execution_count": 2,
   "metadata": {},
   "outputs": [
    {
     "name": "stdout",
     "output_type": "stream",
     "text": [
      "mps\n"
     ]
    }
   ],
   "source": [
    "SEED = 1\n",
    "# Use GPU if available, otherwise CPU\n",
    "device = torch.device('cuda' if torch.cuda.is_available() else 'mps' if torch.backends.mps.is_available() else 'cpu')\n",
    "print(device)"
   ]
  },
  {
   "cell_type": "code",
   "execution_count": 3,
   "metadata": {},
   "outputs": [],
   "source": [
    "imagenette_transforms = transforms.Compose(\n",
    "    [\n",
    "        transforms.Resize((224,224)),\n",
    "        transforms.ToTensor()\n",
    "    ]\n",
    ")"
   ]
  },
  {
   "cell_type": "code",
   "execution_count": 4,
   "metadata": {},
   "outputs": [],
   "source": [
    "data_train = torchvision.datasets.Imagenette(root='./datasets/imagenette', split='train', download=False, transform=imagenette_transforms)\n",
    "data_val = torchvision.datasets.Imagenette(root='./datasets/imagenette', split='val', download=False, transform=imagenette_transforms)"
   ]
  },
  {
   "cell_type": "code",
   "execution_count": 5,
   "metadata": {},
   "outputs": [],
   "source": [
    "class ImagenetteDataset(torch.utils.data.Dataset):\n",
    "\n",
    "    def __init__(self, data, transform=None):\n",
    "        self.transforms = transform\n",
    "        self.data = data\n",
    "\n",
    "    def __getitem__(self,index):\n",
    "        image,label = self.data[index]\n",
    "        if self.transforms != None:\n",
    "            image = self.transforms(image)\n",
    "\n",
    "        label = 1 if label==3 else 0\n",
    "\n",
    "        return image,label\n",
    "\n",
    "    def __len__(self):\n",
    "        return len(self.data)"
   ]
  },
  {
   "cell_type": "code",
   "execution_count": 6,
   "metadata": {},
   "outputs": [],
   "source": [
    "data_train_chainsaw = ImagenetteDataset(data_train)\n",
    "data_val_chainsaw = ImagenetteDataset(data_val)"
   ]
  },
  {
   "cell_type": "code",
   "execution_count": 7,
   "metadata": {},
   "outputs": [],
   "source": [
    "train_loader = torch.utils.data.DataLoader(data_train_chainsaw, batch_size=64, shuffle=True)\n",
    "val_loader = torch.utils.data.DataLoader(data_val_chainsaw, batch_size=64, shuffle=False)"
   ]
  },
  {
   "cell_type": "code",
   "execution_count": 8,
   "metadata": {},
   "outputs": [
    {
     "name": "stdout",
     "output_type": "stream",
     "text": [
      "tensor(0)\n",
      "tensor(0)\n",
      "tensor(0)\n",
      "tensor(0)\n",
      "tensor(0)\n",
      "tensor(0)\n",
      "tensor(0)\n",
      "tensor(0)\n",
      "tensor(0)\n",
      "tensor(0)\n",
      "tensor(0)\n",
      "tensor(0)\n",
      "tensor(0)\n",
      "tensor(0)\n",
      "tensor(0)\n",
      "tensor(0)\n",
      "tensor(0)\n",
      "tensor(1)\n",
      "tensor(1)\n",
      "tensor(0)\n",
      "tensor(0)\n",
      "tensor(0)\n",
      "tensor(0)\n",
      "tensor(0)\n",
      "tensor(0)\n",
      "tensor(1)\n",
      "tensor(0)\n",
      "tensor(0)\n",
      "tensor(1)\n",
      "tensor(1)\n",
      "tensor(0)\n",
      "tensor(0)\n",
      "tensor(0)\n",
      "tensor(0)\n",
      "tensor(0)\n",
      "tensor(0)\n",
      "tensor(0)\n",
      "tensor(1)\n",
      "tensor(0)\n",
      "tensor(0)\n",
      "tensor(0)\n",
      "tensor(0)\n",
      "tensor(1)\n",
      "tensor(0)\n",
      "tensor(0)\n",
      "tensor(1)\n",
      "tensor(0)\n",
      "tensor(0)\n",
      "tensor(1)\n",
      "tensor(0)\n",
      "tensor(0)\n",
      "tensor(0)\n",
      "tensor(0)\n",
      "tensor(0)\n",
      "tensor(0)\n",
      "tensor(0)\n",
      "tensor(0)\n",
      "tensor(0)\n",
      "tensor(1)\n",
      "tensor(0)\n",
      "tensor(1)\n",
      "tensor(0)\n",
      "tensor(0)\n",
      "tensor(0)\n"
     ]
    }
   ],
   "source": [
    "for b,c in train_loader:\n",
    "    for d,e in zip(b,c):\n",
    "        transform = transforms.ToPILImage()\n",
    "        img = transform(d)\n",
    "        # img.show()\n",
    "        print(e)\n",
    "    break"
   ]
  },
  {
   "cell_type": "code",
   "execution_count": 9,
   "metadata": {},
   "outputs": [],
   "source": [
    "class Resnet18(nn.Module):\n",
    "    def __init__(self, num_classes):\n",
    "        super().__init__()\n",
    "        self.backbone = models.resnet18(weights='DEFAULT')\n",
    "        self.backbone.fc = nn.Identity()\n",
    "        self.backbone.to(device)\n",
    "        self.head = nn.Linear(512, num_classes)\n",
    "        self.head.to(device)\n",
    "\n",
    "    def forward(self, x):\n",
    "        x = self.backbone(x)\n",
    "        x = self.head(x)\n",
    "        return x"
   ]
  },
  {
   "cell_type": "code",
   "execution_count": 10,
   "metadata": {},
   "outputs": [
    {
     "name": "stderr",
     "output_type": "stream",
     "text": [
      "Downloading: \"https://download.pytorch.org/models/resnet18-f37072fd.pth\" to /Users/benlin/.cache/torch/hub/checkpoints/resnet18-f37072fd.pth\n",
      "100%|██████████| 44.7M/44.7M [00:01<00:00, 39.5MB/s]\n"
     ]
    }
   ],
   "source": [
    "model = Resnet18(num_classes=2)\n",
    "lr = 0.008\n",
    "#criterion = nn.BCELoss()\n",
    "criterion = nn.CrossEntropyLoss()\n",
    "optimizer = torch.optim.Adam(model.parameters(), lr=lr)"
   ]
  },
  {
   "cell_type": "code",
   "execution_count": 11,
   "metadata": {},
   "outputs": [],
   "source": [
    "def train(model,data_loader,criterion,optimizer,attack=False):\n",
    "\n",
    "    running_loss = 0.\n",
    "    running_steps = 0\n",
    "    n_correct = 0\n",
    "    n_total = 0\n",
    "\n",
    "    with tqdm(data_loader, desc =\"   train\") as train_tqdm:\n",
    "        for batch_idx, (inputs, targets) in enumerate(train_tqdm):\n",
    "            model.train() # add a call before calling train function\n",
    "            inputs, targets = inputs.to(device), targets.to(device)\n",
    "\n",
    "            optimizer.zero_grad()\n",
    "            outputs = model(inputs)\n",
    "            loss = criterion(outputs, targets)\n",
    "            loss.backward()\n",
    "            optimizer.step()\n",
    "\n",
    "            running_loss += loss.item()\n",
    "            running_steps += 1\n",
    "\n",
    "            _, pred = torch.max(outputs, 1)\n",
    "            n_correct += (pred==targets).sum().item()\n",
    "            n_total += len(targets)\n",
    "    \n",
    "    average_train_loss = running_loss / running_steps\n",
    "    accuracy = n_correct / n_total * 100.\n",
    "\n",
    "    return average_train_loss, accuracy"
   ]
  },
  {
   "cell_type": "code",
   "execution_count": 12,
   "metadata": {},
   "outputs": [],
   "source": [
    "@torch.no_grad()\n",
    "def test(model,data_loader,criterion,optimizer,attack=False):\n",
    "    model.eval()\n",
    "\n",
    "    running_loss = 0.\n",
    "    running_steps = 0\n",
    "    n_correct = 0\n",
    "    n_total = 0\n",
    "\n",
    "    with tqdm(data_loader, desc =\"   test\") as test_tqdm:\n",
    "        for batch_idx, (inputs, targets) in enumerate(test_tqdm):\n",
    "            inputs, targets = inputs.to(device), targets.to(device)\n",
    "            outputs = model(inputs)\n",
    "\n",
    "            loss = criterion(outputs, targets)\n",
    "            running_loss += loss.item()\n",
    "            running_steps += 1\n",
    "\n",
    "            _, pred = torch.max(outputs, 1)\n",
    "            n_correct += (pred==targets).sum().item()\n",
    "            n_total += len(targets)\n",
    "    \n",
    "    average_test_loss = running_loss / running_steps\n",
    "    accuracy = n_correct / n_total * 100.0\n",
    "\n",
    "    return average_test_loss, accuracy"
   ]
  },
  {
   "cell_type": "code",
   "execution_count": 13,
   "metadata": {},
   "outputs": [
    {
     "name": "stderr",
     "output_type": "stream",
     "text": [
      "   train: 100%|██████████| 148/148 [01:48<00:00,  1.37it/s]\n",
      "   train: 100%|██████████| 148/148 [01:38<00:00,  1.51it/s]\n"
     ]
    }
   ],
   "source": [
    "for i in range(2):\n",
    "    train_avg_loss, train_accuracy = train(model, train_loader, criterion, optimizer)\n",
    "    if (i+1)%10 == 0:\n",
    "        val_avg_loss, val_accuracy = test(model, val_loader, criterion, optimizer)\n",
    "        print('Epoch: {:3d}, Train Average Loss: {:.2f}, Train Accuracy: {:.1f}%, Validation Average Loss: {:.2f}, Validation Accuracy: {:.1f}%'\\\n",
    "              .format(i+1, train_avg_loss, train_accuracy, val_avg_loss, val_accuracy))"
   ]
  },
  {
   "cell_type": "code",
   "execution_count": 14,
   "metadata": {},
   "outputs": [
    {
     "name": "stderr",
     "output_type": "stream",
     "text": [
      "   test: 100%|██████████| 62/62 [00:23<00:00,  2.58it/s]\n"
     ]
    }
   ],
   "source": [
    "val_avg_loss, val_accuracy = test(model, val_loader, criterion, optimizer)"
   ]
  },
  {
   "cell_type": "code",
   "execution_count": 15,
   "metadata": {},
   "outputs": [
    {
     "name": "stdout",
     "output_type": "stream",
     "text": [
      "Validation Average Loss: 0.30, Validation Accuracy: 90.2%\n"
     ]
    }
   ],
   "source": [
    "print('Validation Average Loss: {:.2f}, Validation Accuracy: {:.1f}%'\\\n",
    "              .format(val_avg_loss, val_accuracy))"
   ]
  },
  {
   "cell_type": "code",
   "execution_count": 30,
   "metadata": {},
   "outputs": [],
   "source": [
    "shape = data_val[50][0].shape\n",
    "out = model.backbone(torch.reshape(data_val[50][0].to(device), (1, *shape)))"
   ]
  },
  {
   "cell_type": "code",
   "execution_count": 37,
   "metadata": {},
   "outputs": [
    {
     "name": "stdout",
     "output_type": "stream",
     "text": [
      "torch.Size([1, 512])\n",
      "\n"
     ]
    },
    {
     "ename": "ValueError",
     "evalue": "cannot reshape array of size 1 into shape (224,224)",
     "output_type": "error",
     "traceback": [
      "\u001b[0;31m---------------------------------------------------------------------------\u001b[0m",
      "\u001b[0;31mValueError\u001b[0m                                Traceback (most recent call last)",
      "Cell \u001b[0;32mIn[37], line 7\u001b[0m\n\u001b[1;32m      5\u001b[0m \u001b[38;5;28mprint\u001b[39m()\n\u001b[1;32m      6\u001b[0m cam \u001b[38;5;241m=\u001b[39m weight\u001b[38;5;241m.\u001b[39mdot(out\u001b[38;5;241m.\u001b[39mcpu()\u001b[38;5;241m.\u001b[39mdetach()\u001b[38;5;241m.\u001b[39mnumpy()\u001b[38;5;241m.\u001b[39mreshape((conv_shape[\u001b[38;5;241m0\u001b[39m]\u001b[38;5;241m*\u001b[39mconv_shape[\u001b[38;5;241m1\u001b[39m])))\n\u001b[0;32m----> 7\u001b[0m cam \u001b[38;5;241m=\u001b[39m \u001b[43mcam\u001b[49m\u001b[38;5;241;43m.\u001b[39;49m\u001b[43mreshape\u001b[49m\u001b[43m(\u001b[49m\u001b[43mshape\u001b[49m\u001b[43m[\u001b[49m\u001b[38;5;241;43m1\u001b[39;49m\u001b[43m]\u001b[49m\u001b[43m,\u001b[49m\u001b[43m \u001b[49m\u001b[43mshape\u001b[49m\u001b[43m[\u001b[49m\u001b[38;5;241;43m2\u001b[39;49m\u001b[43m]\u001b[49m\u001b[43m)\u001b[49m\n\u001b[1;32m      9\u001b[0m \u001b[38;5;28;01mimport\u001b[39;00m \u001b[38;5;21;01mcv2\u001b[39;00m\n\u001b[1;32m     11\u001b[0m heatmap \u001b[38;5;241m=\u001b[39m cv2\u001b[38;5;241m.\u001b[39mapplyColorMap(cv2\u001b[38;5;241m.\u001b[39mresize(cam, (shape[\u001b[38;5;241m1\u001b[39m], shape[\u001b[38;5;241m2\u001b[39m])), cv2\u001b[38;5;241m.\u001b[39mCOLORMAP_JET)\n",
      "\u001b[0;31mValueError\u001b[0m: cannot reshape array of size 1 into shape (224,224)"
     ]
    }
   ],
   "source": [
    "params = list(model.backbone.parameters())\n",
    "weight = np.squeeze(params[-2].data.cpu().numpy())\n",
    "conv_shape = out.shape\n",
    "print(out.shape)\n",
    "print()\n",
    "cam = weight.dot(out.cpu().detach().numpy().reshape((conv_shape[0]*conv_shape[1])))\n",
    "cam = cam.reshape(shape[1], shape[2])\n",
    "\n",
    "import cv2\n",
    "\n",
    "heatmap = cv2.applyColorMap(cv2.resize(cam, (shape[1], shape[2])), cv2.COLORMAP_JET)\n",
    "result = heatmap*0.3 + data_val[50][0]*0.5\n",
    "\n",
    "plt.imshow(result)"
   ]
  }
 ],
 "metadata": {
  "kernelspec": {
   "display_name": ".venv",
   "language": "python",
   "name": "python3"
  },
  "language_info": {
   "codemirror_mode": {
    "name": "ipython",
    "version": 3
   },
   "file_extension": ".py",
   "mimetype": "text/x-python",
   "name": "python",
   "nbconvert_exporter": "python",
   "pygments_lexer": "ipython3",
   "version": "3.8.19"
  }
 },
 "nbformat": 4,
 "nbformat_minor": 2
}
